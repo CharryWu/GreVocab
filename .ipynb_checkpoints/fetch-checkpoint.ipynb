{
 "cells": [
  {
   "cell_type": "code",
   "execution_count": 2,
   "metadata": {
    "collapsed": true
   },
   "outputs": [],
   "source": [
    "%matplotlib inline\n",
    "from bs4 import BeautifulSoup\n",
    "import urllib.request\n",
    "import re\n",
    "import numpy as np\n",
    "import pandas as pd"
   ]
  },
  {
   "cell_type": "code",
   "execution_count": 3,
   "metadata": {
    "collapsed": true
   },
   "outputs": [],
   "source": [
    "vocab=pd.read_csv('gre_unfamiliar.csv',encoding='utf-8')"
   ]
  },
  {
   "cell_type": "code",
   "execution_count": 8,
   "metadata": {
    "collapsed": true
   },
   "outputs": [],
   "source": [
    "vocab.to_csv('gre_unfamiliar.csv',encoding='utf-8')"
   ]
  },
  {
   "cell_type": "code",
   "execution_count": null,
   "metadata": {
    "collapsed": true
   },
   "outputs": [],
   "source": [
    "def add_new_col(df,name,default_val=''):\n",
    "    df.loc[:, name] = default_val"
   ]
  },
  {
   "cell_type": "code",
   "execution_count": 9,
   "metadata": {},
   "outputs": [
    {
     "ename": "AttributeError",
     "evalue": "'str' object has no attribute 'log'",
     "output_type": "error",
     "traceback": [
      "\u001b[0;31m---------------------------------------------------------------------------\u001b[0m",
      "\u001b[0;31mAttributeError\u001b[0m                            Traceback (most recent call last)",
      "\u001b[0;32m<ipython-input-9-14a6ec8f8c80>\u001b[0m in \u001b[0;36m<module>\u001b[0;34m()\u001b[0m\n\u001b[0;32m----> 1\u001b[0;31m \u001b[0mnp\u001b[0m\u001b[0;34m.\u001b[0m\u001b[0mlog\u001b[0m\u001b[0;34m(\u001b[0m\u001b[0mvocab\u001b[0m\u001b[0;34m[\u001b[0m\u001b[0;34m'vocabulary'\u001b[0m\u001b[0;34m]\u001b[0m\u001b[0;34m)\u001b[0m\u001b[0;34m\u001b[0m\u001b[0m\n\u001b[0m",
      "\u001b[0;31mAttributeError\u001b[0m: 'str' object has no attribute 'log'"
     ]
    }
   ],
   "source": []
  },
  {
   "cell_type": "markdown",
   "metadata": {},
   "source": [
    "## Jul 23"
   ]
  },
  {
   "cell_type": "code",
   "execution_count": 4,
   "metadata": {},
   "outputs": [
    {
     "data": {
      "text/html": [
       "<div>\n",
       "<table border=\"1\" class=\"dataframe\">\n",
       "  <thead>\n",
       "    <tr style=\"text-align: right;\">\n",
       "      <th></th>\n",
       "      <th>vocabulary</th>\n",
       "      <th>chinese</th>\n",
       "      <th>meaning</th>\n",
       "      <th>example</th>\n",
       "    </tr>\n",
       "  </thead>\n",
       "  <tbody>\n",
       "    <tr>\n",
       "      <th>0</th>\n",
       "      <td>cosmopolitan</td>\n",
       "      <td>指人因见多识广而到哪里都悠然自得的</td>\n",
       "      <td>familiar with and at ease in many different co...</td>\n",
       "      <td>his knowledge of French, Italian, and Spanish ...</td>\n",
       "    </tr>\n",
       "    <tr>\n",
       "      <th>1</th>\n",
       "      <td>clamorous</td>\n",
       "      <td>NaN</td>\n",
       "      <td>making a loud and confused noise</td>\n",
       "      <td>NaN</td>\n",
       "    </tr>\n",
       "    <tr>\n",
       "      <th>2</th>\n",
       "      <td>intransigent</td>\n",
       "      <td>指人固执己见的</td>\n",
       "      <td>characterized by refusal to compromise or to a...</td>\n",
       "      <td>NaN</td>\n",
       "    </tr>\n",
       "    <tr>\n",
       "      <th>3</th>\n",
       "      <td>numinous</td>\n",
       "      <td>神圣的</td>\n",
       "      <td>NaN</td>\n",
       "      <td>the strange, numinous beauty of this ancient l...</td>\n",
       "    </tr>\n",
       "    <tr>\n",
       "      <th>4</th>\n",
       "      <td>sterling</td>\n",
       "      <td>(某人的努力成果/人格)优秀的</td>\n",
       "      <td>(of a person or their work, efforts, or qualit...</td>\n",
       "      <td>this organization does sterling work for young...</td>\n",
       "    </tr>\n",
       "    <tr>\n",
       "      <th>5</th>\n",
       "      <td>ad hoc</td>\n",
       "      <td>特别的/临时形成针对…的</td>\n",
       "      <td>formed, arranged, or done for a particular pur...</td>\n",
       "      <td>an ad hoc committee (亚人委员会)</td>\n",
       "    </tr>\n",
       "    <tr>\n",
       "      <th>6</th>\n",
       "      <td>enigma</td>\n",
       "      <td>指人/事物：神秘的，困惑的，难以理解的</td>\n",
       "      <td>a person or thing that is mysterious, puzzling...</td>\n",
       "      <td>NaN</td>\n",
       "    </tr>\n",
       "    <tr>\n",
       "      <th>7</th>\n",
       "      <td>neutralized</td>\n",
       "      <td>使之无效/使不能正常运作</td>\n",
       "      <td>render (something) ineffective or harmless by ...</td>\n",
       "      <td>impatience at his frailty began to neutralize ...</td>\n",
       "    </tr>\n",
       "    <tr>\n",
       "      <th>8</th>\n",
       "      <td>fickle</td>\n",
       "      <td>善变的(贬义，指兴趣/忠诚变化无端)</td>\n",
       "      <td>NaN</td>\n",
       "      <td>Web patrons are a notoriously fickle lot, boun...</td>\n",
       "    </tr>\n",
       "    <tr>\n",
       "      <th>9</th>\n",
       "      <td>partiality</td>\n",
       "      <td>偏袒(某人或某事)</td>\n",
       "      <td>unfair bias in favor of one thing or person co...</td>\n",
       "      <td>an attack on the partiality of judges</td>\n",
       "    </tr>\n",
       "  </tbody>\n",
       "</table>\n",
       "</div>"
      ],
      "text/plain": [
       "     vocabulary              chinese  \\\n",
       "0  cosmopolitan    指人因见多识广而到哪里都悠然自得的   \n",
       "1     clamorous                  NaN   \n",
       "2  intransigent              指人固执己见的   \n",
       "3      numinous                  神圣的   \n",
       "4      sterling      (某人的努力成果/人格)优秀的   \n",
       "5        ad hoc         特别的/临时形成针对…的   \n",
       "6        enigma  指人/事物：神秘的，困惑的，难以理解的   \n",
       "7   neutralized         使之无效/使不能正常运作   \n",
       "8        fickle   善变的(贬义，指兴趣/忠诚变化无端)   \n",
       "9    partiality            偏袒(某人或某事)   \n",
       "\n",
       "                                             meaning  \\\n",
       "0  familiar with and at ease in many different co...   \n",
       "1                   making a loud and confused noise   \n",
       "2  characterized by refusal to compromise or to a...   \n",
       "3                                                NaN   \n",
       "4  (of a person or their work, efforts, or qualit...   \n",
       "5  formed, arranged, or done for a particular pur...   \n",
       "6  a person or thing that is mysterious, puzzling...   \n",
       "7  render (something) ineffective or harmless by ...   \n",
       "8                                                NaN   \n",
       "9  unfair bias in favor of one thing or person co...   \n",
       "\n",
       "                                             example  \n",
       "0  his knowledge of French, Italian, and Spanish ...  \n",
       "1                                                NaN  \n",
       "2                                                NaN  \n",
       "3  the strange, numinous beauty of this ancient l...  \n",
       "4  this organization does sterling work for young...  \n",
       "5                        an ad hoc committee (亚人委员会)  \n",
       "6                                                NaN  \n",
       "7  impatience at his frailty began to neutralize ...  \n",
       "8  Web patrons are a notoriously fickle lot, boun...  \n",
       "9              an attack on the partiality of judges  "
      ]
     },
     "execution_count": 4,
     "metadata": {},
     "output_type": "execute_result"
    }
   ],
   "source": [
    "vocab.head(10)"
   ]
  },
  {
   "cell_type": "code",
   "execution_count": 5,
   "metadata": {
    "collapsed": true
   },
   "outputs": [],
   "source": [
    "vocabList = vocab['vocabulary'].tolist()"
   ]
  },
  {
   "cell_type": "code",
   "execution_count": 6,
   "metadata": {
    "collapsed": true
   },
   "outputs": [],
   "source": [
    "baseurl='https://www.vocabulary.com/dictionary/'"
   ]
  },
  {
   "cell_type": "code",
   "execution_count": 7,
   "metadata": {
    "collapsed": true
   },
   "outputs": [],
   "source": [
    "EMPTY_CELL = 'missing'"
   ]
  },
  {
   "cell_type": "code",
   "execution_count": null,
   "metadata": {
    "collapsed": true
   },
   "outputs": [],
   "source": []
  },
  {
   "cell_type": "code",
   "execution_count": 1,
   "metadata": {},
   "outputs": [
    {
     "ename": "NameError",
     "evalue": "name 'vocab' is not defined",
     "output_type": "error",
     "traceback": [
      "\u001b[0;31m---------------------------------------------------------------------------\u001b[0m",
      "\u001b[0;31mNameError\u001b[0m                                 Traceback (most recent call last)",
      "\u001b[0;32m<ipython-input-1-b0dda31fdb82>\u001b[0m in \u001b[0;36m<module>\u001b[0;34m()\u001b[0m\n\u001b[1;32m      1\u001b[0m \u001b[0mcounts\u001b[0m \u001b[0;34m=\u001b[0m \u001b[0;36m0\u001b[0m\u001b[0;34m\u001b[0m\u001b[0m\n\u001b[0;32m----> 2\u001b[0;31m \u001b[0;32mfor\u001b[0m \u001b[0mindex\u001b[0m\u001b[0;34m,\u001b[0m \u001b[0mentry\u001b[0m \u001b[0;32min\u001b[0m \u001b[0mvocab\u001b[0m\u001b[0;34m.\u001b[0m\u001b[0miterrrows\u001b[0m\u001b[0;34m(\u001b[0m\u001b[0;34m)\u001b[0m\u001b[0;34m:\u001b[0m\u001b[0;34m\u001b[0m\u001b[0m\n\u001b[0m\u001b[1;32m      3\u001b[0m \u001b[0;34m\u001b[0m\u001b[0m\n\u001b[1;32m      4\u001b[0m     \u001b[0mprint\u001b[0m\u001b[0;34m(\u001b[0m\u001b[0;34m'index'\u001b[0m\u001b[0;34m+\u001b[0m\u001b[0mstr\u001b[0m\u001b[0;34m(\u001b[0m\u001b[0mindex\u001b[0m\u001b[0;34m)\u001b[0m\u001b[0;34m+\u001b[0m\u001b[0;34m' | word: '\u001b[0m\u001b[0;34m+\u001b[0m\u001b[0mvocab\u001b[0m\u001b[0;34m)\u001b[0m\u001b[0;34m\u001b[0m\u001b[0m\n\u001b[1;32m      5\u001b[0m \u001b[0;34m\u001b[0m\u001b[0m\n",
      "\u001b[0;31mNameError\u001b[0m: name 'vocab' is not defined"
     ]
    }
   ],
   "source": [
    "counts = 0\n",
    "for index, entry in vocab.iterrrows():\n",
    "    # print record\n",
    "    print('index'+str(index)+' | word: '+vocab)\n",
    "    \n",
    "    # get the entry's word\n",
    "    vocab = entry['vocabulary']\n",
    "    \n",
    "    # Fetch HTML document and instantiate soup\n",
    "    with urllib.request.urlopen(baseurl + vocab) as url:\n",
    "        r=url.read()\n",
    "    soup = BeautifulSoup(r,'html.parser')\n",
    "\n",
    "    # check if the word exists in vocabulary.com\n",
    "    if len(soup.select('h1.dynamictext')) == 0: \n",
    "        continue\n",
    "        \n",
    "    # get contents we want\n",
    "    shortContent = soup.select('p.short')\n",
    "    longContent = soup.select('p.long')\n",
    "    defContent = soup.select('h3.definition')\n",
    "\n",
    "    # remove the <a> tag in definition\n",
    "    defContent[0].a.extract()\n",
    "    \n",
    "    word = soup.select('h1.dynamictext')\n",
    "\n",
    "    # check if the word explanation exists\n",
    "    if len(shortContent) > 0 and len(longContent)>0 :\n",
    "        print(shortContent[0].get_text(strip=True))\n",
    "        print(longContent[0].get_text(strip=True))\n",
    "\n",
    "    print('def[0]:'+defContent[0].get_text(strip=True))\n",
    "    print('===========================================')"
   ]
  }
 ],
 "metadata": {
  "kernelspec": {
   "display_name": "Python 3",
   "language": "python",
   "name": "python3"
  },
  "language_info": {
   "codemirror_mode": {
    "name": "ipython",
    "version": 3
   },
   "file_extension": ".py",
   "mimetype": "text/x-python",
   "name": "python",
   "nbconvert_exporter": "python",
   "pygments_lexer": "ipython3",
   "version": "3.6.0"
  }
 },
 "nbformat": 4,
 "nbformat_minor": 2
}
