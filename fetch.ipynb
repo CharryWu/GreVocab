{
 "cells": [
  {
   "cell_type": "code",
   "execution_count": 2,
   "metadata": {
    "collapsed": true
   },
   "outputs": [],
   "source": [
    "%matplotlib inline\n",
    "from bs4 import BeautifulSoup\n",
    "import urllib.request\n",
    "import re\n",
    "import numpy as np\n",
    "import pandas as pd"
   ]
  },
  {
   "cell_type": "code",
   "execution_count": 18,
   "metadata": {
    "collapsed": true
   },
   "outputs": [],
   "source": [
    "vocab=pd.read_csv('gre_unfamiliar.csv',encoding='utf-8')"
   ]
  },
  {
   "cell_type": "code",
   "execution_count": 22,
   "metadata": {
    "collapsed": true
   },
   "outputs": [],
   "source": [
    "vocab.to_csv('gre_unfamiliar.csv',encoding='utf-8')"
   ]
  },
  {
   "cell_type": "code",
   "execution_count": 17,
   "metadata": {
    "collapsed": true
   },
   "outputs": [],
   "source": [
    "def add_new_col(df,name,default_val=np.NaN):\n",
    "    df.loc[:, name] = default_val"
   ]
  },
  {
   "cell_type": "markdown",
   "metadata": {},
   "source": [
    "## Jul 23"
   ]
  },
  {
   "cell_type": "code",
   "execution_count": 21,
   "metadata": {},
   "outputs": [
    {
     "data": {
      "text/html": [
       "<div>\n",
       "<table border=\"1\" class=\"dataframe\">\n",
       "  <thead>\n",
       "    <tr style=\"text-align: right;\">\n",
       "      <th></th>\n",
       "      <th>Unnamed: 0</th>\n",
       "      <th>vocabulary</th>\n",
       "      <th>chinese</th>\n",
       "      <th>meaning</th>\n",
       "      <th>example</th>\n",
       "      <th>short</th>\n",
       "      <th>long</th>\n",
       "      <th>definition</th>\n",
       "    </tr>\n",
       "  </thead>\n",
       "  <tbody>\n",
       "    <tr>\n",
       "      <th>0</th>\n",
       "      <td>0</td>\n",
       "      <td>cosmopolitan</td>\n",
       "      <td>指人因见多识广而到哪里都悠然自得的</td>\n",
       "      <td>familiar with and at ease in many different co...</td>\n",
       "      <td>his knowledge of French, Italian, and Spanish ...</td>\n",
       "      <td>NaN</td>\n",
       "      <td>NaN</td>\n",
       "      <td>NaN</td>\n",
       "    </tr>\n",
       "    <tr>\n",
       "      <th>1</th>\n",
       "      <td>1</td>\n",
       "      <td>clamorous</td>\n",
       "      <td>NaN</td>\n",
       "      <td>making a loud and confused noise</td>\n",
       "      <td>NaN</td>\n",
       "      <td>NaN</td>\n",
       "      <td>NaN</td>\n",
       "      <td>NaN</td>\n",
       "    </tr>\n",
       "    <tr>\n",
       "      <th>2</th>\n",
       "      <td>2</td>\n",
       "      <td>intransigent</td>\n",
       "      <td>指人固执己见的</td>\n",
       "      <td>characterized by refusal to compromise or to a...</td>\n",
       "      <td>NaN</td>\n",
       "      <td>NaN</td>\n",
       "      <td>NaN</td>\n",
       "      <td>NaN</td>\n",
       "    </tr>\n",
       "    <tr>\n",
       "      <th>3</th>\n",
       "      <td>3</td>\n",
       "      <td>numinous</td>\n",
       "      <td>神圣的</td>\n",
       "      <td>NaN</td>\n",
       "      <td>the strange, numinous beauty of this ancient l...</td>\n",
       "      <td>NaN</td>\n",
       "      <td>NaN</td>\n",
       "      <td>NaN</td>\n",
       "    </tr>\n",
       "    <tr>\n",
       "      <th>4</th>\n",
       "      <td>4</td>\n",
       "      <td>sterling</td>\n",
       "      <td>(某人的努力成果/人格)优秀的</td>\n",
       "      <td>(of a person or their work, efforts, or qualit...</td>\n",
       "      <td>this organization does sterling work for young...</td>\n",
       "      <td>NaN</td>\n",
       "      <td>NaN</td>\n",
       "      <td>NaN</td>\n",
       "    </tr>\n",
       "    <tr>\n",
       "      <th>5</th>\n",
       "      <td>5</td>\n",
       "      <td>ad hoc</td>\n",
       "      <td>特别的/临时形成针对…的</td>\n",
       "      <td>formed, arranged, or done for a particular pur...</td>\n",
       "      <td>an ad hoc committee (亚人委员会)</td>\n",
       "      <td>NaN</td>\n",
       "      <td>NaN</td>\n",
       "      <td>NaN</td>\n",
       "    </tr>\n",
       "    <tr>\n",
       "      <th>6</th>\n",
       "      <td>6</td>\n",
       "      <td>enigma</td>\n",
       "      <td>指人/事物：神秘的，困惑的，难以理解的</td>\n",
       "      <td>a person or thing that is mysterious, puzzling...</td>\n",
       "      <td>NaN</td>\n",
       "      <td>NaN</td>\n",
       "      <td>NaN</td>\n",
       "      <td>NaN</td>\n",
       "    </tr>\n",
       "    <tr>\n",
       "      <th>7</th>\n",
       "      <td>7</td>\n",
       "      <td>neutralized</td>\n",
       "      <td>使之无效/使不能正常运作</td>\n",
       "      <td>render (something) ineffective or harmless by ...</td>\n",
       "      <td>impatience at his frailty began to neutralize ...</td>\n",
       "      <td>NaN</td>\n",
       "      <td>NaN</td>\n",
       "      <td>NaN</td>\n",
       "    </tr>\n",
       "    <tr>\n",
       "      <th>8</th>\n",
       "      <td>8</td>\n",
       "      <td>fickle</td>\n",
       "      <td>善变的(贬义，指兴趣/忠诚变化无端)</td>\n",
       "      <td>NaN</td>\n",
       "      <td>Web patrons are a notoriously fickle lot, boun...</td>\n",
       "      <td>NaN</td>\n",
       "      <td>NaN</td>\n",
       "      <td>NaN</td>\n",
       "    </tr>\n",
       "    <tr>\n",
       "      <th>9</th>\n",
       "      <td>9</td>\n",
       "      <td>partiality</td>\n",
       "      <td>偏袒(某人或某事)</td>\n",
       "      <td>unfair bias in favor of one thing or person co...</td>\n",
       "      <td>an attack on the partiality of judges</td>\n",
       "      <td>NaN</td>\n",
       "      <td>NaN</td>\n",
       "      <td>NaN</td>\n",
       "    </tr>\n",
       "  </tbody>\n",
       "</table>\n",
       "</div>"
      ],
      "text/plain": [
       "   Unnamed: 0    vocabulary              chinese  \\\n",
       "0           0  cosmopolitan    指人因见多识广而到哪里都悠然自得的   \n",
       "1           1     clamorous                  NaN   \n",
       "2           2  intransigent              指人固执己见的   \n",
       "3           3      numinous                  神圣的   \n",
       "4           4      sterling      (某人的努力成果/人格)优秀的   \n",
       "5           5        ad hoc         特别的/临时形成针对…的   \n",
       "6           6        enigma  指人/事物：神秘的，困惑的，难以理解的   \n",
       "7           7   neutralized         使之无效/使不能正常运作   \n",
       "8           8        fickle   善变的(贬义，指兴趣/忠诚变化无端)   \n",
       "9           9    partiality            偏袒(某人或某事)   \n",
       "\n",
       "                                             meaning  \\\n",
       "0  familiar with and at ease in many different co...   \n",
       "1                   making a loud and confused noise   \n",
       "2  characterized by refusal to compromise or to a...   \n",
       "3                                                NaN   \n",
       "4  (of a person or their work, efforts, or qualit...   \n",
       "5  formed, arranged, or done for a particular pur...   \n",
       "6  a person or thing that is mysterious, puzzling...   \n",
       "7  render (something) ineffective or harmless by ...   \n",
       "8                                                NaN   \n",
       "9  unfair bias in favor of one thing or person co...   \n",
       "\n",
       "                                             example  short  long  definition  \n",
       "0  his knowledge of French, Italian, and Spanish ...    NaN   NaN         NaN  \n",
       "1                                                NaN    NaN   NaN         NaN  \n",
       "2                                                NaN    NaN   NaN         NaN  \n",
       "3  the strange, numinous beauty of this ancient l...    NaN   NaN         NaN  \n",
       "4  this organization does sterling work for young...    NaN   NaN         NaN  \n",
       "5                        an ad hoc committee (亚人委员会)    NaN   NaN         NaN  \n",
       "6                                                NaN    NaN   NaN         NaN  \n",
       "7  impatience at his frailty began to neutralize ...    NaN   NaN         NaN  \n",
       "8  Web patrons are a notoriously fickle lot, boun...    NaN   NaN         NaN  \n",
       "9              an attack on the partiality of judges    NaN   NaN         NaN  "
      ]
     },
     "execution_count": 21,
     "metadata": {},
     "output_type": "execute_result"
    }
   ],
   "source": [
    "vocab.head(10)"
   ]
  },
  {
   "cell_type": "code",
   "execution_count": 5,
   "metadata": {
    "collapsed": true
   },
   "outputs": [],
   "source": [
    "vocabList = vocab['vocabulary'].tolist()"
   ]
  },
  {
   "cell_type": "code",
   "execution_count": 6,
   "metadata": {
    "collapsed": true
   },
   "outputs": [],
   "source": [
    "baseurl='https://www.vocabulary.com/dictionary/'"
   ]
  },
  {
   "cell_type": "code",
   "execution_count": 7,
   "metadata": {
    "collapsed": true
   },
   "outputs": [],
   "source": [
    "EMPTY_CELL = 'missing'"
   ]
  },
  {
   "cell_type": "code",
   "execution_count": 20,
   "metadata": {
    "collapsed": true
   },
   "outputs": [],
   "source": [
    "add_new_col(vocab,'short')\n",
    "add_new_col(vocab,'long')\n",
    "add_new_col(vocab,'definition')"
   ]
  },
  {
   "cell_type": "code",
   "execution_count": 1,
   "metadata": {},
   "outputs": [
    {
     "ename": "NameError",
     "evalue": "name 'vocab' is not defined",
     "output_type": "error",
     "traceback": [
      "\u001b[0;31m---------------------------------------------------------------------------\u001b[0m",
      "\u001b[0;31mNameError\u001b[0m                                 Traceback (most recent call last)",
      "\u001b[0;32m<ipython-input-1-b0dda31fdb82>\u001b[0m in \u001b[0;36m<module>\u001b[0;34m()\u001b[0m\n\u001b[1;32m      1\u001b[0m \u001b[0mcounts\u001b[0m \u001b[0;34m=\u001b[0m \u001b[0;36m0\u001b[0m\u001b[0;34m\u001b[0m\u001b[0m\n\u001b[0;32m----> 2\u001b[0;31m \u001b[0;32mfor\u001b[0m \u001b[0mindex\u001b[0m\u001b[0;34m,\u001b[0m \u001b[0mentry\u001b[0m \u001b[0;32min\u001b[0m \u001b[0mvocab\u001b[0m\u001b[0;34m.\u001b[0m\u001b[0miterrrows\u001b[0m\u001b[0;34m(\u001b[0m\u001b[0;34m)\u001b[0m\u001b[0;34m:\u001b[0m\u001b[0;34m\u001b[0m\u001b[0m\n\u001b[0m\u001b[1;32m      3\u001b[0m \u001b[0;34m\u001b[0m\u001b[0m\n\u001b[1;32m      4\u001b[0m     \u001b[0mprint\u001b[0m\u001b[0;34m(\u001b[0m\u001b[0;34m'index'\u001b[0m\u001b[0;34m+\u001b[0m\u001b[0mstr\u001b[0m\u001b[0;34m(\u001b[0m\u001b[0mindex\u001b[0m\u001b[0;34m)\u001b[0m\u001b[0;34m+\u001b[0m\u001b[0;34m' | word: '\u001b[0m\u001b[0;34m+\u001b[0m\u001b[0mvocab\u001b[0m\u001b[0;34m)\u001b[0m\u001b[0;34m\u001b[0m\u001b[0m\n\u001b[1;32m      5\u001b[0m \u001b[0;34m\u001b[0m\u001b[0m\n",
      "\u001b[0;31mNameError\u001b[0m: name 'vocab' is not defined"
     ]
    }
   ],
   "source": [
    "counts = 0\n",
    "for index, entry in vocab.iterrrows():\n",
    "    # print record\n",
    "    print('index'+str(index)+' | word: '+vocab)\n",
    "    \n",
    "    # get the entry's word\n",
    "    vocab = entry['vocabulary']\n",
    "    \n",
    "    # Fetch HTML document and instantiate soup\n",
    "    with urllib.request.urlopen(baseurl + vocab) as url:\n",
    "        r=url.read()\n",
    "    soup = BeautifulSoup(r,'html.parser')\n",
    "\n",
    "    # check if the word exists in vocabulary.com\n",
    "    if len(soup.select('h1.dynamictext')) == 0: \n",
    "        continue\n",
    "        \n",
    "    # get contents we want\n",
    "    shortContent = soup.select('p.short')\n",
    "    longContent = soup.select('p.long')\n",
    "    defContent = soup.select('h3.definition')\n",
    "\n",
    "    # remove the <a> tag in definition\n",
    "    defContent[0].a.extract()\n",
    "    \n",
    "    word = soup.select('h1.dynamictext')\n",
    "\n",
    "    # check if the word explanation exists\n",
    "    if len(shortContent) > 0 and len(longContent)>0 :\n",
    "        print(shortContent[0].get_text(strip=True))\n",
    "        print(longContent[0].get_text(strip=True))\n",
    "\n",
    "    print('def[0]:'+defContent[0].get_text(strip=True))\n",
    "    print('===========================================')"
   ]
  }
 ],
 "metadata": {
  "kernelspec": {
   "display_name": "Python 3",
   "language": "python",
   "name": "python3"
  },
  "language_info": {
   "codemirror_mode": {
    "name": "ipython",
    "version": 3
   },
   "file_extension": ".py",
   "mimetype": "text/x-python",
   "name": "python",
   "nbconvert_exporter": "python",
   "pygments_lexer": "ipython3",
   "version": "3.6.0"
  }
 },
 "nbformat": 4,
 "nbformat_minor": 2
}
